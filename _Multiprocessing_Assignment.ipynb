{
 "cells": [
  {
   "cell_type": "markdown",
   "id": "40de1208-a558-4d17-8095-70b2eadf799c",
   "metadata": {},
   "source": [
    "Q1. What is multiprocessing in python? Why is it useful?"
   ]
  },
  {
   "cell_type": "markdown",
   "id": "b0bee06a-a94d-41f4-b1b6-90c0c398254f",
   "metadata": {},
   "source": [
    "#Ans_1.\n",
    "As multiprocessing in Python is the process of running multiple processes simultaneously within a single thread and as the primary purpose of multiprocessing in Python is to improve the performance of a program by using multiple CPUs or CPU cores."
   ]
  },
  {
   "cell_type": "markdown",
   "id": "e1bf8245-c9dc-47ca-be0c-9eb9ce746be3",
   "metadata": {},
   "source": [
    "Q2. What are the differences between multiprocessing and multithreading?"
   ]
  },
  {
   "cell_type": "markdown",
   "id": "7ede35bb-5e31-43dd-87e7-60873210b4b6",
   "metadata": {},
   "source": [
    "#Ans_2.\n",
    "As the primary difference between multiprocessing and multithreading in Python is that multiprocessing runs multiple processes simultaneously within a single thread, while multithreading runs multiple threads simultaneously within a single process. "
   ]
  },
  {
   "cell_type": "markdown",
   "id": "da049ee8-7560-46fc-82bd-7fadebeaeaa1",
   "metadata": {},
   "source": [
    "Q3. Write a python code to create a process using the multiprocessing module."
   ]
  },
  {
   "cell_type": "code",
   "execution_count": 1,
   "id": "e2c5ba1a-686d-46db-a4de-21137d3eb9e8",
   "metadata": {},
   "outputs": [
    {
     "name": "stdout",
     "output_type": "stream",
     "text": [
      "this is my main prog\n",
      "this is multiprocessing prog\n"
     ]
    }
   ],
   "source": [
    "#Ans_3.\n",
    "import multiprocessing\n",
    "def test():\n",
    "    print(\"this is multiprocessing prog\")\n",
    "    \n",
    "if __name__ == '__main__':\n",
    "    m = multiprocessing.Process(target=test)\n",
    "    print(\"this is my main prog\")\n",
    "    m.start()\n",
    "    m.join()"
   ]
  },
  {
   "cell_type": "markdown",
   "id": "2914e3ea-ef79-4cb6-bacc-a01b8329ecde",
   "metadata": {},
   "source": [
    "Q4. What is a multiprocessing pool in python? Why is it used?"
   ]
  },
  {
   "cell_type": "markdown",
   "id": "5574b31d-a004-45f5-9afe-1a637d18d35e",
   "metadata": {},
   "source": [
    "#Ans_4.\n",
    "In multiprocessing a process pool is a set of processes that can be executed concurrently to perform a specific task and parallel execution of a function across multiple input values, distributing the input data across processes (data parallelism)."
   ]
  },
  {
   "cell_type": "markdown",
   "id": "e4592f85-66bf-4525-b780-6e840ea08274",
   "metadata": {},
   "source": [
    "Q5. How can we create a pool of worker processes in python using the multiprocessing module?"
   ]
  },
  {
   "cell_type": "code",
   "execution_count": 3,
   "id": "be71f92f-76c1-40d2-86c5-d8c87b5dea2d",
   "metadata": {},
   "outputs": [
    {
     "name": "stdout",
     "output_type": "stream",
     "text": [
      "[1, 4, 9, 16, 25, 36, 49, 64, 81, 100]\n"
     ]
    }
   ],
   "source": [
    "#Ans_5.\n",
    "import multiprocessing\n",
    "def sqaure(n):\n",
    "    return n**2\n",
    "\n",
    "if __name__ == '__main__':\n",
    "    data = [1, 2, 3, 4, 5, 6, 7, 8, 9, 10]\n",
    "    with multiprocessing.Pool(processes=4) as pool :\n",
    "        output = pool.map(sqaure, data)\n",
    "        print(output)"
   ]
  },
  {
   "cell_type": "markdown",
   "id": "8c551297-ecdc-4f79-bba3-2f04f29c5783",
   "metadata": {},
   "source": [
    "Q6. Write a python program to create 4 processes, each process should print a different number using the\n",
    "multiprocessing module in python."
   ]
  },
  {
   "cell_type": "code",
   "execution_count": 5,
   "id": "fc76994c-796e-4877-88e2-f54f1004ca42",
   "metadata": {},
   "outputs": [
    {
     "name": "stdout",
     "output_type": "stream",
     "text": [
      "Process 1: 1\n",
      "Process 2: 2\n",
      "Process 3: 3\n",
      "Process 4: 4\n"
     ]
    }
   ],
   "source": [
    "#Ans_6.\n",
    "import multiprocessing\n",
    "\n",
    "def multi_num(nums):\n",
    "    print(f\"Process {nums}: {nums}\")\n",
    "\n",
    "if __name__ == \"__main__\":\n",
    "    nums = [1, 2, 3, 4]\n",
    "    processes = []\n",
    "    for i in nums:\n",
    "        process = multiprocessing.Process(target=multi_num, args=(i,))\n",
    "        processes.append(process)\n",
    "        process.start()\n",
    "    for process in processes:\n",
    "        process.join()"
   ]
  },
  {
   "cell_type": "code",
   "execution_count": null,
   "id": "4faa09f6-b78b-427a-97aa-83bddf23ef0c",
   "metadata": {},
   "outputs": [],
   "source": []
  }
 ],
 "metadata": {
  "kernelspec": {
   "display_name": "Python 3 (ipykernel)",
   "language": "python",
   "name": "python3"
  },
  "language_info": {
   "codemirror_mode": {
    "name": "ipython",
    "version": 3
   },
   "file_extension": ".py",
   "mimetype": "text/x-python",
   "name": "python",
   "nbconvert_exporter": "python",
   "pygments_lexer": "ipython3",
   "version": "3.10.8"
  }
 },
 "nbformat": 4,
 "nbformat_minor": 5
}
